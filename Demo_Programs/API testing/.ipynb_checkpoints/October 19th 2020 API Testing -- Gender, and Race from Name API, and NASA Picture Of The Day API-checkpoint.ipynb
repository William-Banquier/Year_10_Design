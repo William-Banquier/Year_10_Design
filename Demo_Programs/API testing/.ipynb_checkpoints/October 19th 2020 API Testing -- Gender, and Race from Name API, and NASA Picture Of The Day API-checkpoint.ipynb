{
 "cells": [
  {
   "cell_type": "code",
   "execution_count": 1,
   "metadata": {},
   "outputs": [],
   "source": [
    "import requests"
   ]
  },
  {
   "cell_type": "code",
   "execution_count": 2,
   "metadata": {},
   "outputs": [
    {
     "name": "stdout",
     "output_type": "stream",
     "text": [
      "First Name: William\n",
      "Last Name: Banquier\n"
     ]
    }
   ],
   "source": [
    "site = requests.get(\"https://api.diversitydata.io/?fullname=\"+input(\"First Name: \")+\" \"+input(\"Last Name: \"))"
   ]
  },
  {
   "cell_type": "code",
   "execution_count": 3,
   "metadata": {},
   "outputs": [
    {
     "name": "stdout",
     "output_type": "stream",
     "text": [
      " \"william banquier\"  \"male\"  \"white\"\n"
     ]
    }
   ],
   "source": [
    "try:\n",
    "    print(site.text.split(\":\")[1].split(\",\")[0],site.text.split(\":\")[2].split(',')[0],site.text.split(\":\")[3].split(',')[0])\n",
    "except:\n",
    "    pass#Stops null types, and broken inputs"
   ]
  },
  {
   "cell_type": "code",
   "execution_count": 4,
   "metadata": {},
   "outputs": [],
   "source": [
    "site = requests.get(\"https://api.nasa.gov/planetary/apod?api_key=DEMO_KEY\")"
   ]
  },
  {
   "cell_type": "code",
   "execution_count": 5,
   "metadata": {},
   "outputs": [
    {
     "name": "stdout",
     "output_type": "stream",
     "text": [
      "https://www.youtube.com/embed/xh3EKDghbuU\n"
     ]
    }
   ],
   "source": [
    "print(site.text.split(\"url\")[1].split('\"')[2])"
   ]
  }
 ],
 "metadata": {
  "kernelspec": {
   "display_name": "Python 3",
   "language": "python",
   "name": "python3"
  },
  "language_info": {
   "codemirror_mode": {
    "name": "ipython",
    "version": 3
   },
   "file_extension": ".py",
   "mimetype": "text/x-python",
   "name": "python",
   "nbconvert_exporter": "python",
   "pygments_lexer": "ipython3",
   "version": "3.8.3"
  }
 },
 "nbformat": 4,
 "nbformat_minor": 4
}
