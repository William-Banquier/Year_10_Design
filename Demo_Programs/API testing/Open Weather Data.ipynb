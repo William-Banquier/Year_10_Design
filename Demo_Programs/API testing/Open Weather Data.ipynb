{
 "cells": [
  {
   "cell_type": "code",
   "execution_count": 37,
   "metadata": {},
   "outputs": [],
   "source": [
    "import requests as r"
   ]
  },
  {
   "cell_type": "code",
   "execution_count": 59,
   "metadata": {},
   "outputs": [],
   "source": [
    "x = r.get(\"http://api.openweathermap.org/data/2.5/weather?q=Tokyo&appid=201e7478e7be199c5d4c38e10ff2db01&units=metric\")"
   ]
  },
  {
   "cell_type": "code",
   "execution_count": 60,
   "metadata": {},
   "outputs": [
    {
     "name": "stdout",
     "output_type": "stream",
     "text": [
      "weather\n",
      "Clouds\n"
     ]
    }
   ],
   "source": [
    "print(x.text.split(\"}\")[1].split('\"')[1])\n",
    "# print(x.text.split(\"}\")[1])\n",
    "print(x.text.split(\"}\")[1].split(':\"')[1].split('\"')[0])"
   ]
  },
  {
   "cell_type": "code",
   "execution_count": 61,
   "metadata": {},
   "outputs": [],
   "source": [
    "import json"
   ]
  },
  {
   "cell_type": "code",
   "execution_count": 62,
   "metadata": {},
   "outputs": [
    {
     "data": {
      "text/plain": [
       "<Response [200]>"
      ]
     },
     "execution_count": 62,
     "metadata": {},
     "output_type": "execute_result"
    }
   ],
   "source": [
    "x"
   ]
  },
  {
   "cell_type": "code",
   "execution_count": 63,
   "metadata": {},
   "outputs": [],
   "source": [
    "dictionary = json.loads(x.text)"
   ]
  },
  {
   "cell_type": "code",
   "execution_count": 64,
   "metadata": {},
   "outputs": [
    {
     "data": {
      "text/plain": [
       "{'coord': {'lon': 139.69, 'lat': 35.69},\n",
       " 'weather': [{'id': 803,\n",
       "   'main': 'Clouds',\n",
       "   'description': 'broken clouds',\n",
       "   'icon': '04n'}],\n",
       " 'base': 'stations',\n",
       " 'main': {'temp': 9.71,\n",
       "  'feels_like': 4.4,\n",
       "  'temp_min': 8.33,\n",
       "  'temp_max': 11.11,\n",
       "  'pressure': 1022,\n",
       "  'humidity': 57},\n",
       " 'visibility': 10000,\n",
       " 'wind': {'speed': 5.1, 'deg': 20},\n",
       " 'clouds': {'all': 75},\n",
       " 'dt': 1607533159,\n",
       " 'sys': {'type': 1,\n",
       "  'id': 8074,\n",
       "  'country': 'JP',\n",
       "  'sunrise': 1607550013,\n",
       "  'sunset': 1607585285},\n",
       " 'timezone': 32400,\n",
       " 'id': 1850144,\n",
       " 'name': 'Tokyo',\n",
       " 'cod': 200}"
      ]
     },
     "execution_count": 64,
     "metadata": {},
     "output_type": "execute_result"
    }
   ],
   "source": [
    "dictionary"
   ]
  },
  {
   "cell_type": "code",
   "execution_count": 69,
   "metadata": {},
   "outputs": [
    {
     "name": "stdout",
     "output_type": "stream",
     "text": [
      "The temperature is 9.71 degrees celcius in Tokyo\n",
      "Right now the city has broken clouds\n"
     ]
    }
   ],
   "source": [
    "print(\"The temperature is\", dictionary['main']['temp'], \"degrees celcius in\", dictionary['name'])\n",
    "\n",
    "print(\"Right now the city has\", dictionary['weather'][0]['description'])"
   ]
  }
 ],
 "metadata": {
  "kernelspec": {
   "display_name": "Python 3",
   "language": "python",
   "name": "python3"
  },
  "language_info": {
   "codemirror_mode": {
    "name": "ipython",
    "version": 3
   },
   "file_extension": ".py",
   "mimetype": "text/x-python",
   "name": "python",
   "nbconvert_exporter": "python",
   "pygments_lexer": "ipython3",
   "version": "3.8.3"
  }
 },
 "nbformat": 4,
 "nbformat_minor": 4
}
